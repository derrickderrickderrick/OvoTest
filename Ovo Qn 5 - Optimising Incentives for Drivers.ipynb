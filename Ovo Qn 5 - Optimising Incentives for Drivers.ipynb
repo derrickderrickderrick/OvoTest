{
 "cells": [
  {
   "cell_type": "code",
   "execution_count": 1,
   "metadata": {},
   "outputs": [],
   "source": [
    "import pandas as pd"
   ]
  },
  {
   "cell_type": "code",
   "execution_count": 4,
   "metadata": {},
   "outputs": [],
   "source": [
    "df = pd.read_pickle('nyc_taxi_prepped.pickle')"
   ]
  },
  {
   "cell_type": "code",
   "execution_count": 5,
   "metadata": {},
   "outputs": [],
   "source": [
    "df['trip_duration_min']=df['trip_time_in_secs']/60\n"
   ]
  },
  {
   "cell_type": "code",
   "execution_count": 171,
   "metadata": {},
   "outputs": [],
   "source": [
    "def create_df(table, column_name): \n",
    "    table = pd.DataFrame(table) \n",
    "    table.columns = [column_name]\n",
    "    table = table.reset_index()\n",
    "    \n",
    "    return table"
   ]
  },
  {
   "cell_type": "code",
   "execution_count": 258,
   "metadata": {},
   "outputs": [],
   "source": [
    "driver_no_trips = create_df(df.groupby('medallion')['medallion'].count(), 'trip_count')"
   ]
  },
  {
   "cell_type": "code",
   "execution_count": 259,
   "metadata": {},
   "outputs": [],
   "source": [
    "driver_total_earnings = create_df(df.groupby('medallion')['fare_amount'].sum(), 'total_earnings')"
   ]
  },
  {
   "cell_type": "code",
   "execution_count": 260,
   "metadata": {},
   "outputs": [],
   "source": [
    "driver_days_worked =  create_df(df.groupby(['medallion','pickup_day_date'])['pickup_day_date'].count(), 'days_worked')"
   ]
  },
  {
   "cell_type": "code",
   "execution_count": 261,
   "metadata": {},
   "outputs": [],
   "source": [
    "driver_days_worked = df.drop_duplicates(subset=['medallion', 'pickup_day_date'], keep='first')"
   ]
  },
  {
   "cell_type": "code",
   "execution_count": 262,
   "metadata": {},
   "outputs": [],
   "source": [
    "driver_days_worked2 = create_df(driver_days_worked.groupby(['medallion'])['pickup_day_date'].count(), \"days_worked\") "
   ]
  },
  {
   "cell_type": "code",
   "execution_count": 263,
   "metadata": {},
   "outputs": [],
   "source": [
    "wkdy_wknd_worked = create_df(driver_days_worked.groupby(['medallion', 'pickup_day_type'])[\"pickup_day_type\"].count(), 'count')"
   ]
  },
  {
   "cell_type": "code",
   "execution_count": 264,
   "metadata": {
    "scrolled": true
   },
   "outputs": [],
   "source": [
    "wkdy_wknd_worked2_wknd = wkdy_wknd_worked[wkdy_wknd_worked['pickup_day_type'] == 'Weekend'][['medallion', 'count']]"
   ]
  },
  {
   "cell_type": "code",
   "execution_count": 265,
   "metadata": {},
   "outputs": [],
   "source": [
    "wkdy_wknd_worked2_wknd.columns = ['medallion','Weekend']"
   ]
  },
  {
   "cell_type": "code",
   "execution_count": 266,
   "metadata": {},
   "outputs": [],
   "source": [
    "wkdy_wknd_worked2_wkdy = wkdy_wknd_worked[wkdy_wknd_worked['pickup_day_type'] == 'Weekday'][['medallion', 'count']]\n",
    "wkdy_wknd_worked2_wkdy.columns = ['medallion','Weekday']"
   ]
  },
  {
   "cell_type": "code",
   "execution_count": 267,
   "metadata": {},
   "outputs": [],
   "source": [
    "driver_table = driver_no_trips.merge(driver_total_earnings).merge(driver_days_worked2).merge(wkdy_wknd_worked2_wknd).merge(wkdy_wknd_worked2_wkdy)"
   ]
  },
  {
   "cell_type": "code",
   "execution_count": 268,
   "metadata": {},
   "outputs": [],
   "source": [
    "driver_table['earnings_quantile']= pd.qcut(driver_table['total_earnings'], q = 4, labels = False)"
   ]
  },
  {
   "cell_type": "code",
   "execution_count": null,
   "metadata": {},
   "outputs": [],
   "source": []
  },
  {
   "cell_type": "code",
   "execution_count": 270,
   "metadata": {},
   "outputs": [],
   "source": [
    "driver_table['target_quantile'] = driver_table['earnings_quantile'].apply(lambda x:x +1) "
   ]
  },
  {
   "cell_type": "code",
   "execution_count": 283,
   "metadata": {},
   "outputs": [],
   "source": [
    "def create_df(table, name): \n",
    "    table = pd.DataFrame(table)\n",
    "    table.columns = [name]\n",
    "    table = table.reset_index()\n",
    "    \n",
    "    return table\n",
    "    \n",
    "    "
   ]
  },
  {
   "cell_type": "code",
   "execution_count": 285,
   "metadata": {},
   "outputs": [],
   "source": [
    "mean_table = create_df(driver_table.groupby('earnings_quantile')['trip_count'].mean(), 'mean_trip_count')"
   ]
  },
  {
   "cell_type": "code",
   "execution_count": 286,
   "metadata": {},
   "outputs": [
    {
     "data": {
      "text/html": [
       "<div>\n",
       "<style scoped>\n",
       "    .dataframe tbody tr th:only-of-type {\n",
       "        vertical-align: middle;\n",
       "    }\n",
       "\n",
       "    .dataframe tbody tr th {\n",
       "        vertical-align: top;\n",
       "    }\n",
       "\n",
       "    .dataframe thead th {\n",
       "        text-align: right;\n",
       "    }\n",
       "</style>\n",
       "<table border=\"1\" class=\"dataframe\">\n",
       "  <thead>\n",
       "    <tr style=\"text-align: right;\">\n",
       "      <th></th>\n",
       "      <th>medallion</th>\n",
       "      <th>trip_count</th>\n",
       "      <th>total_earnings</th>\n",
       "      <th>days_worked</th>\n",
       "      <th>Weekend</th>\n",
       "      <th>Weekday</th>\n",
       "      <th>earnings_quantile</th>\n",
       "      <th>target_quantile</th>\n",
       "      <th>mean_trip_count</th>\n",
       "    </tr>\n",
       "  </thead>\n",
       "  <tbody>\n",
       "    <tr>\n",
       "      <th>0</th>\n",
       "      <td>00005007A9F30E289E760362F69E4EAD</td>\n",
       "      <td>1333</td>\n",
       "      <td>13739.5</td>\n",
       "      <td>30</td>\n",
       "      <td>8</td>\n",
       "      <td>22</td>\n",
       "      <td>3</td>\n",
       "      <td>4</td>\n",
       "      <td>1359.429790</td>\n",
       "    </tr>\n",
       "    <tr>\n",
       "      <th>1</th>\n",
       "      <td>000351EDC735C079246435340A54C7C1</td>\n",
       "      <td>1482</td>\n",
       "      <td>15405.0</td>\n",
       "      <td>30</td>\n",
       "      <td>8</td>\n",
       "      <td>22</td>\n",
       "      <td>3</td>\n",
       "      <td>4</td>\n",
       "      <td>1359.429790</td>\n",
       "    </tr>\n",
       "    <tr>\n",
       "      <th>2</th>\n",
       "      <td>0009986BDBAB2F9A125FEF49D0BFCCDD</td>\n",
       "      <td>1427</td>\n",
       "      <td>14409.0</td>\n",
       "      <td>30</td>\n",
       "      <td>8</td>\n",
       "      <td>22</td>\n",
       "      <td>3</td>\n",
       "      <td>4</td>\n",
       "      <td>1359.429790</td>\n",
       "    </tr>\n",
       "    <tr>\n",
       "      <th>3</th>\n",
       "      <td>001DFAC01BC0A32F48C3769DD1414778</td>\n",
       "      <td>1205</td>\n",
       "      <td>13160.0</td>\n",
       "      <td>30</td>\n",
       "      <td>8</td>\n",
       "      <td>22</td>\n",
       "      <td>3</td>\n",
       "      <td>4</td>\n",
       "      <td>1359.429790</td>\n",
       "    </tr>\n",
       "    <tr>\n",
       "      <th>4</th>\n",
       "      <td>003EEA559FA61800874D4F6805C4A084</td>\n",
       "      <td>1519</td>\n",
       "      <td>15826.5</td>\n",
       "      <td>30</td>\n",
       "      <td>8</td>\n",
       "      <td>22</td>\n",
       "      <td>3</td>\n",
       "      <td>4</td>\n",
       "      <td>1359.429790</td>\n",
       "    </tr>\n",
       "    <tr>\n",
       "      <th>...</th>\n",
       "      <td>...</td>\n",
       "      <td>...</td>\n",
       "      <td>...</td>\n",
       "      <td>...</td>\n",
       "      <td>...</td>\n",
       "      <td>...</td>\n",
       "      <td>...</td>\n",
       "      <td>...</td>\n",
       "      <td>...</td>\n",
       "    </tr>\n",
       "    <tr>\n",
       "      <th>13127</th>\n",
       "      <td>FFE1AB76511357473BE3236025321493</td>\n",
       "      <td>842</td>\n",
       "      <td>8680.5</td>\n",
       "      <td>30</td>\n",
       "      <td>8</td>\n",
       "      <td>22</td>\n",
       "      <td>0</td>\n",
       "      <td>1</td>\n",
       "      <td>550.172099</td>\n",
       "    </tr>\n",
       "    <tr>\n",
       "      <th>13128</th>\n",
       "      <td>FFE25FFFBDE6A6019A6A9051C4E798FA</td>\n",
       "      <td>556</td>\n",
       "      <td>6538.5</td>\n",
       "      <td>30</td>\n",
       "      <td>8</td>\n",
       "      <td>22</td>\n",
       "      <td>0</td>\n",
       "      <td>1</td>\n",
       "      <td>550.172099</td>\n",
       "    </tr>\n",
       "    <tr>\n",
       "      <th>13129</th>\n",
       "      <td>FFEC9171E009541071F4CAB49DF113C9</td>\n",
       "      <td>629</td>\n",
       "      <td>6894.5</td>\n",
       "      <td>26</td>\n",
       "      <td>4</td>\n",
       "      <td>22</td>\n",
       "      <td>0</td>\n",
       "      <td>1</td>\n",
       "      <td>550.172099</td>\n",
       "    </tr>\n",
       "    <tr>\n",
       "      <th>13130</th>\n",
       "      <td>FFED7CFCB1A658ADEC2DC6A899047060</td>\n",
       "      <td>544</td>\n",
       "      <td>6159.5</td>\n",
       "      <td>26</td>\n",
       "      <td>6</td>\n",
       "      <td>20</td>\n",
       "      <td>0</td>\n",
       "      <td>1</td>\n",
       "      <td>550.172099</td>\n",
       "    </tr>\n",
       "    <tr>\n",
       "      <th>13131</th>\n",
       "      <td>FFEE0D464EEA83AF6EA50CA5738B5610</td>\n",
       "      <td>539</td>\n",
       "      <td>6081.0</td>\n",
       "      <td>25</td>\n",
       "      <td>5</td>\n",
       "      <td>20</td>\n",
       "      <td>0</td>\n",
       "      <td>1</td>\n",
       "      <td>550.172099</td>\n",
       "    </tr>\n",
       "  </tbody>\n",
       "</table>\n",
       "<p>13132 rows × 9 columns</p>\n",
       "</div>"
      ],
      "text/plain": [
       "                              medallion  trip_count  total_earnings  \\\n",
       "0      00005007A9F30E289E760362F69E4EAD        1333         13739.5   \n",
       "1      000351EDC735C079246435340A54C7C1        1482         15405.0   \n",
       "2      0009986BDBAB2F9A125FEF49D0BFCCDD        1427         14409.0   \n",
       "3      001DFAC01BC0A32F48C3769DD1414778        1205         13160.0   \n",
       "4      003EEA559FA61800874D4F6805C4A084        1519         15826.5   \n",
       "...                                 ...         ...             ...   \n",
       "13127  FFE1AB76511357473BE3236025321493         842          8680.5   \n",
       "13128  FFE25FFFBDE6A6019A6A9051C4E798FA         556          6538.5   \n",
       "13129  FFEC9171E009541071F4CAB49DF113C9         629          6894.5   \n",
       "13130  FFED7CFCB1A658ADEC2DC6A899047060         544          6159.5   \n",
       "13131  FFEE0D464EEA83AF6EA50CA5738B5610         539          6081.0   \n",
       "\n",
       "       days_worked  Weekend  Weekday  earnings_quantile  target_quantile  \\\n",
       "0               30        8       22                  3                4   \n",
       "1               30        8       22                  3                4   \n",
       "2               30        8       22                  3                4   \n",
       "3               30        8       22                  3                4   \n",
       "4               30        8       22                  3                4   \n",
       "...            ...      ...      ...                ...              ...   \n",
       "13127           30        8       22                  0                1   \n",
       "13128           30        8       22                  0                1   \n",
       "13129           26        4       22                  0                1   \n",
       "13130           26        6       20                  0                1   \n",
       "13131           25        5       20                  0                1   \n",
       "\n",
       "       mean_trip_count  \n",
       "0          1359.429790  \n",
       "1          1359.429790  \n",
       "2          1359.429790  \n",
       "3          1359.429790  \n",
       "4          1359.429790  \n",
       "...                ...  \n",
       "13127       550.172099  \n",
       "13128       550.172099  \n",
       "13129       550.172099  \n",
       "13130       550.172099  \n",
       "13131       550.172099  \n",
       "\n",
       "[13132 rows x 9 columns]"
      ]
     },
     "execution_count": 286,
     "metadata": {},
     "output_type": "execute_result"
    }
   ],
   "source": [
    "driver_table.merge(mean_table, how = 'outer')"
   ]
  },
  {
   "cell_type": "code",
   "execution_count": 287,
   "metadata": {},
   "outputs": [],
   "source": [
    "mean_table.columns = ['target_quantile', 'mean_trip_count']"
   ]
  },
  {
   "cell_type": "code",
   "execution_count": 296,
   "metadata": {},
   "outputs": [],
   "source": [
    "driver_table = driver_table.merge(mean_table, how = 'outer')"
   ]
  },
  {
   "cell_type": "code",
   "execution_count": 289,
   "metadata": {},
   "outputs": [],
   "source": [
    "earnings_table = create_df(driver_table.groupby('earnings_quantile')['total_earnings'].mean(), 'target_earnings')"
   ]
  },
  {
   "cell_type": "code",
   "execution_count": 291,
   "metadata": {},
   "outputs": [],
   "source": [
    "earnings_table.columns = ['target_quantile', 'target_earnings']"
   ]
  },
  {
   "cell_type": "code",
   "execution_count": 293,
   "metadata": {},
   "outputs": [],
   "source": [
    "driver_table = driver_table.merge(earnings_table, how = 'outer')"
   ]
  },
  {
   "cell_type": "code",
   "execution_count": 297,
   "metadata": {},
   "outputs": [],
   "source": [
    "driver_table['add_trip_target'] = driver_table['trip_count'] - driver_table['mean_trip_count']"
   ]
  },
  {
   "cell_type": "code",
   "execution_count": 300,
   "metadata": {},
   "outputs": [],
   "source": [
    "driver_table['earnings_gap'] = driver_table['target_earnings'] - driver_table['total_earnings']"
   ]
  },
  {
   "cell_type": "code",
   "execution_count": 302,
   "metadata": {},
   "outputs": [],
   "source": [
    "def find_incentive(x):\n",
    "    \n",
    "    fees = 0.1\n",
    "    profit = 0.5\n",
    "    \n",
    "    budget = 0.5*0.1*x\n",
    "    \n",
    "    return budget"
   ]
  },
  {
   "cell_type": "code",
   "execution_count": 303,
   "metadata": {},
   "outputs": [],
   "source": [
    "driver_table['incentive_budget'] = driver_table['earnings_gap'].apply(lambda x:find_incentive(x))"
   ]
  },
  {
   "cell_type": "code",
   "execution_count": 304,
   "metadata": {},
   "outputs": [],
   "source": [
    "driver_table['incentive_per_trip']  = driver_table['incentive_budget']/driver_table['add_trip_target']"
   ]
  },
  {
   "cell_type": "code",
   "execution_count": null,
   "metadata": {},
   "outputs": [],
   "source": []
  }
 ],
 "metadata": {
  "kernelspec": {
   "display_name": "Python 3",
   "language": "python",
   "name": "python3"
  },
  "language_info": {
   "codemirror_mode": {
    "name": "ipython",
    "version": 3
   },
   "file_extension": ".py",
   "mimetype": "text/x-python",
   "name": "python",
   "nbconvert_exporter": "python",
   "pygments_lexer": "ipython3",
   "version": "3.7.6"
  }
 },
 "nbformat": 4,
 "nbformat_minor": 4
}

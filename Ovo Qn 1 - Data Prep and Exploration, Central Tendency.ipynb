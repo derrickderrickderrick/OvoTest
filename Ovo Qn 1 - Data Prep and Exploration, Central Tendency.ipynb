{
 "cells": [
  {
   "cell_type": "markdown",
   "metadata": {},
   "source": [
    "# Import Data"
   ]
  },
  {
   "cell_type": "code",
   "execution_count": null,
   "metadata": {},
   "outputs": [],
   "source": [
    "import pandas as pd\n",
    "import numpy as np\n",
    "from datetime import datetime\n",
    "\n",
    "import seaborn as sns\n",
    "import matplotlib.pyplot as plt\n",
    "%matplotlib inline\n",
    "\n",
    "from scipy.stats import norm\n",
    "import scipy.stats as stats\n",
    "import pylab  \n",
    "\n",
    "import warnings\n",
    "warnings.filterwarnings('ignore')\n",
    "\n",
    "import haversine as hs"
   ]
  },
  {
   "cell_type": "code",
   "execution_count": null,
   "metadata": {},
   "outputs": [],
   "source": [
    "fares = pd.read_csv('trip_fare.csv')\n",
    "trips = pd.read_csv('trip_data.csv')\n",
    "df = fares.merge(trips)"
   ]
  },
  {
   "cell_type": "code",
   "execution_count": null,
   "metadata": {},
   "outputs": [],
   "source": [
    "df.to_pickle('nyc_taxi_original.pickle')"
   ]
  },
  {
   "cell_type": "code",
   "execution_count": null,
   "metadata": {},
   "outputs": [],
   "source": [
    "df_orig = pd.read_pickle('nyc_taxi_original.pickle')\n",
    "df_orig.columns = [i.strip() for i in list(df_orig.columns)]"
   ]
  },
  {
   "cell_type": "code",
   "execution_count": null,
   "metadata": {},
   "outputs": [],
   "source": [
    "#print the number of rows and columns of the loaded dataframe\n",
    "print('The dataset has',df.shape[0],'rows and',df.shape[1],'columns.')"
   ]
  },
  {
   "cell_type": "markdown",
   "metadata": {},
   "source": [
    "# Data Cleaning and Feature Prep"
   ]
  },
  {
   "cell_type": "code",
   "execution_count": null,
   "metadata": {},
   "outputs": [],
   "source": [
    "# correct variable names for later convenience\n",
    "df.columns = [i.strip() for i in list(df.columns)]\n",
    "df.info() # take a look at current dataframe information"
   ]
  },
  {
   "cell_type": "code",
   "execution_count": null,
   "metadata": {},
   "outputs": [],
   "source": [
    "#convert second duration \n",
    "df['pickup_datetime']=pd.to_datetime(df['pickup_datetime'])\n",
    "df['dropoff_datetime']=pd.to_datetime(df['dropoff_datetime'])"
   ]
  },
  {
   "cell_type": "code",
   "execution_count": null,
   "metadata": {},
   "outputs": [],
   "source": [
    "#convert date string to datetime\n",
    "df['pickup_datetime']=pd.to_datetime(df['pickup_datetime'])\n",
    "df['dropoff_datetime']=pd.to_datetime(df['dropoff_datetime'])"
   ]
  },
  {
   "cell_type": "code",
   "execution_count": null,
   "metadata": {},
   "outputs": [],
   "source": [
    "# extract pickup and dropoff travel time in hours\n",
    "df['trip_duration_hour']=df['trip_time_in_secs']/3600 \n",
    "\n",
    "# extract pickup and dropoff hour\n",
    "df['dropoff_hour']=df['dropoff_datetime'].dt.hour\n",
    "df['pickup_hour']=df['dropoff_datetime'].dt.hour\n",
    "\n",
    "# extract pickup and dropoff day\n",
    "df['pickup_day_date']=df['pickup_datetime'].dt.day\n",
    "df['dropoff_day_date']=df['dropoff_datetime'].dt.day\n",
    "\n",
    "# extract pickup and dropoff day of week\n",
    "df['pickup_day']=df['pickup_datetime'].dt.day_name()\n",
    "df['dropoff_day']=df['dropoff_datetime'].dt.day_name()\n",
    "\n",
    "# create a log transformed distance\n",
    "df['trip_logdist'] = df['trip_distance'].apply(lambda x: np.log(x + .01))\n",
    "\n",
    "# create geographic distance\n",
    "df['trip_geodistance'] = df.apply(lambda x: geodistance(x['pickup_latitude'], x['pickup_longitude'], \n",
    "                                              x['dropoff_latitude'], x['dropoff_longitude']), axis=1)\n",
    "\n",
    "# calculate speed\n",
    "df['trip_speed'] = df['trip_distance']/df['trip_duration_hour'] "
   ]
  },
  {
   "cell_type": "code",
   "execution_count": null,
   "metadata": {},
   "outputs": [],
   "source": [
    "def get_wknd_wkdy(x): \n",
    "    \n",
    "    wknd = ['Saturday', 'Sunday']\n",
    "    wkdy = ['Monday', 'Tuesday', 'Wednesday', 'Thursday' ,'Friday']\n",
    "    \n",
    "    if x in wknd:\n",
    "        \n",
    "        return 'Weekend'\n",
    "    \n",
    "    else: \n",
    "        \n",
    "        return 'Weekday'"
   ]
  },
  {
   "cell_type": "code",
   "execution_count": null,
   "metadata": {},
   "outputs": [],
   "source": [
    "df['pickup_day_type'] = df['pickup_day'].apply(lambda x:get_wknd_wkdy(x))\n",
    "df['dropoff_day_type'] = df['dropoff_day'].apply(lambda x:get_wknd_wkdy(x))"
   ]
  },
  {
   "cell_type": "code",
   "execution_count": null,
   "metadata": {},
   "outputs": [],
   "source": [
    "def geodistance(x_long, x_lat, y_long, y_lat): \n",
    "    \n",
    "    loc_1 = (x_lat, x_long)\n",
    "    loc_2 = (y_lat, y_long)\n",
    "    geodist = hs.haversine(loc_1,loc_2)\n",
    "    hs.haversine(loc_1,loc_2,unit='mi')\n",
    "    \n",
    "    return geodist"
   ]
  },
  {
   "cell_type": "code",
   "execution_count": null,
   "metadata": {},
   "outputs": [],
   "source": [
    "nyc_boroughs={\n",
    "    'manhattan':{\n",
    "        'min_lng':-74.0479,\n",
    "        'min_lat':40.6829,\n",
    "        'max_lng':-73.9067,\n",
    "        'max_lat':40.8820\n",
    "    },\n",
    "    \n",
    "    'queens':{\n",
    "        'min_lng':-73.9630,\n",
    "        'min_lat':40.5431,\n",
    "        'max_lng':-73.7004,\n",
    "        'max_lat':40.8007\n",
    "\n",
    "    },\n",
    "\n",
    "    'brooklyn':{\n",
    "        'min_lng':-74.0421,\n",
    "        'min_lat':40.5707,\n",
    "        'max_lng':-73.8334,\n",
    "        'max_lat':40.7395\n",
    "        \n",
    "   },\n",
    "\n",
    "    'bronx':{\n",
    "        'min_lng':-73.9339,\n",
    "        'min_lat':40.7855,\n",
    "        'max_lng':-73.7654,\n",
    "        'max_lat':40.9176\n",
    "\n",
    "    },\n",
    "\n",
    "    'staten_island':{\n",
    "        'min_lng':-74.2558,\n",
    "        'min_lat':40.4960,\n",
    "        'max_lng':-74.0522,\n",
    "        'max_lat':40.6490\n",
    "\n",
    "    }\n",
    "    \n",
    "    \n",
    "    \n",
    "}"
   ]
  },
  {
   "cell_type": "code",
   "execution_count": null,
   "metadata": {},
   "outputs": [],
   "source": [
    "nyc_airports={  \n",
    "    \n",
    "    \n",
    "    'JFK_Airport' :{\n",
    "       'min_lng':-73.8352,\n",
    "       'min_lat':40.6195,\n",
    "       'max_lng':-73.7401, \n",
    "       'max_lat':40.6659\n",
    "\n",
    "    },\n",
    "    \n",
    "    'Newark_Airport':{'min_lng':-74.1925,\n",
    "            'min_lat':40.6700, \n",
    "            'max_lng':-74.1531, \n",
    "            'max_lat':40.7081\n",
    "\n",
    "    },\n",
    "    \n",
    "    'LaGuardia_Airport':{'min_lng':-73.8895, \n",
    "                  'min_lat':40.7664, \n",
    "                  'max_lng':-73.8550, \n",
    "                  'max_lat':40.7931\n",
    "    \n",
    "    }\n",
    "    \n",
    "}    \n",
    "                         "
   ]
  },
  {
   "cell_type": "code",
   "execution_count": null,
   "metadata": {},
   "outputs": [],
   "source": [
    "def getBorough(lat,lng):\n",
    "    \n",
    "    locs=nyc_boroughs.keys()\n",
    "    for loc in locs:\n",
    "        if lat>=nyc_boroughs[loc]['min_lat'] and lat<=nyc_boroughs[loc]['max_lat'] and lng>=nyc_boroughs[loc]['min_lng'] and lng<=nyc_boroughs[loc]['max_lng']:\n",
    "            return loc\n",
    "    return 'others'"
   ]
  },
  {
   "cell_type": "code",
   "execution_count": null,
   "metadata": {},
   "outputs": [],
   "source": [
    "def getAirport(lat,lng):\n",
    "    \n",
    "    locs=nyc_airports.keys()\n",
    "    for loc in locs:\n",
    "        if lat>=nyc_airports[loc]['min_lat'] and lat<=nyc_airports[loc]['max_lat'] and lng>=nyc_airports[loc]['min_lng'] and lng<=nyc_airports[loc]['max_lng']:\n",
    "            return loc\n",
    "    return 'not_airport'"
   ]
  },
  {
   "cell_type": "code",
   "execution_count": null,
   "metadata": {},
   "outputs": [],
   "source": [
    "df['pickup_borough']=df.apply(lambda row:getBorough(row['pickup_latitude'],row['pickup_longitude']),axis=1)\n",
    "df['dropoff_borough']=df.apply(lambda row:getBorough(row['dropoff_latitude'],row['dropoff_longitude']),axis=1)"
   ]
  },
  {
   "cell_type": "code",
   "execution_count": null,
   "metadata": {},
   "outputs": [],
   "source": [
    "df['pickup_airport']=df.apply(lambda row:getAirport(row['pickup_latitude'],row['pickup_longitude']),axis=1)\n",
    "df['dropoff_airport']=df.apply(lambda row:getAirport(row['dropoff_latitude'],row['dropoff_longitude']),axis=1)"
   ]
  },
  {
   "cell_type": "code",
   "execution_count": null,
   "metadata": {},
   "outputs": [],
   "source": [
    "def origin_dest(borough, airport): \n",
    "    \n",
    "    if airport != 'not_airport':\n",
    "        \n",
    "        return airport\n",
    "        \n",
    "    return borough"
   ]
  },
  {
   "cell_type": "code",
   "execution_count": null,
   "metadata": {},
   "outputs": [],
   "source": [
    "df['pickup_origin'] = df.apply(lambda row:origin_dest(row['pickup_borough'],row['pickup_airport']),axis=1)"
   ]
  },
  {
   "cell_type": "code",
   "execution_count": null,
   "metadata": {},
   "outputs": [],
   "source": [
    "df['dropoff_dest'] = df.apply(lambda row:origin_dest(row['dropoff_borough'],row['dropoff_airport']),axis=1)"
   ]
  },
  {
   "cell_type": "code",
   "execution_count": null,
   "metadata": {},
   "outputs": [],
   "source": [
    "df.to_pickle('nyc_taxi_processed.pickle')"
   ]
  },
  {
   "cell_type": "markdown",
   "metadata": {},
   "source": [
    "<b>2. Records that met the following criteria were excluded from all subsequent analyses:</b>\n",
    "\n",
    "Distance of 0 mile or distance ≥ 50 miles;\n",
    "Duration of 0 minute or duration ≥ 200 minutes;\n",
    "\n",
    "Average speed ≤ 1 MPH or average speed ≥ 240 MPH;\n",
    "\n",
    "Base fare < 2.50 or ≥ 250.00, or tip amount > twice the base fare;\n",
    "\n",
    "With invalid longitude or latitude data, or with a trip distance shorter than the geographic distance between pickup and drop-off point by more than 1 mile, or traveled outside the 5 boroughs or 3 airports of NYC."
   ]
  },
  {
   "cell_type": "code",
   "execution_count": null,
   "metadata": {},
   "outputs": [],
   "source": [
    "# To remove trip with extreme distances: \n",
    "## a. for trips with distance of 0 mile: keep trips with different pickup/dropoff locations\n",
    "filter1 = (df['trip_distance']==0) & (df['pickup_borough']!=df['dropoff_borough'])\n",
    "## b. for trips with distance >0 mile: keep trip within 50 miles (99.99% percentile was 41.25 miles). \n",
    "filter2 = (df['trip_distance']>0) & (df['trip_distance']<50) \n",
    "\n",
    "# apply criteria\n",
    "start_n = len(df)\n",
    "df = df [filter1 | filter2]\n",
    "print('Step 1 excludes',start_n - len(df),'records, current sample size=',len(df))\n",
    "\n",
    "# To remove trips with extreme long duration:\n",
    "## a. for trips with duration of 0 minute: keep trips with different pickup/dropoff locations\n",
    "filter3 = (df['trip_duration_hour']==0) & (df['pickup_borough']!=df['dropoff_borough'])\n",
    "\n",
    "## b. for trips with distance >0 min: keep trips under 200 mins (99% percentile was 62 mins) which is 3.33 hours\n",
    "filter4 = (df['trip_duration_hour']>0) & (df['trip_duration_hour'] <3.33) \n",
    "\n",
    "# apply criteria\n",
    "start_n = len(df)\n",
    "df = df [filter3 | filter4]\n",
    "print('Step 2 excludes',start_n - len(df),'records, current sample size=',len(df))\n",
    "\n",
    "# To remove trips with extreme fast speed\n",
    "## a. keep trip with average speed <= 240 MPH (i.e. 240 MPH which is unlikely)\n",
    "## b. keep trip with average speed >= 1 MPH (i.e. 1 MPH which is unlikely)\n",
    "filter5 = ((df['trip_speed']< 240) & (df['trip_speed'] > 1))|(df['trip_distance']==0) | (df['trip_duration_hour'] ==0) \n",
    "\n",
    "# apply criteria\n",
    "start_n = len(df)\n",
    "df = df [filter5]\n",
    "print('Step 3 excludes',start_n - len(df),'records, current sample size=',len(df))\n",
    "\n",
    "# To remove trips with extreme fare amounts:\n",
    "## a. keep trips with fare >= the minimum amount $2.5\n",
    "## b. keep fare amount < $250 (99.99% percentile was $200)\n",
    "filter6 = (df['fare_amount']>=2.5) & (df['fare_amount'] < 250)\n",
    "## c. keep trips with tip amount <= twice the fare amount (implausible values)\n",
    "filter7 = df['tip_amount'] <= 2*df['fare_amount']\n",
    "\n",
    "# apply criteria\n",
    "start_n = len(df)\n",
    "df = df [filter6 & filter7]\n",
    "print('Step 4 excludes',start_n - len(df),'records, current sample size=',len(df))\n",
    "\n",
    "# To remove trips with invalid geographic location\n",
    "## a. Remove trips with invalid GPS data\n",
    "filter8 = (df['pickup_longitude']!=0) & (df['pickup_latitude']!=0) & (df['dropoff_longitude']!=0) & (df['dropoff_latitude']!=0)\n",
    "\n",
    "## b. Keep trips with travel distance >= GPS distance - 1 mile (implausible value)\n",
    "filter9 = df['trip_distance'] >= (df['trip_geodistance'] -1)\n",
    "\n",
    "## apply criteria\n",
    "start_n = len(df)\n",
    "df = df[filter8 & filter9]\n",
    "print('Step 5 excludes',start_n - len(df),'records, current sample size=',len(df))\n",
    "\n",
    "# c. Remove trips out of new york city area (5 boroughs plus 3 airports)\n",
    "filter10 = (df['rate_code'] < 4)\n",
    "\n",
    "# c. Remove trips without cash or credit card payment\n",
    "filter11 = (df['payment_type'] == 'CSH') | (df['payment_type'] == 'CRD')\n",
    "\n",
    "## apply criteria\n",
    "start_n = len(df)\n",
    "df = df[filter10 & filter11]\n",
    "print('Step 6 excludes',start_n - len(df),'records, current sample size=',len(df))"
   ]
  },
  {
   "cell_type": "code",
   "execution_count": null,
   "metadata": {
    "scrolled": true
   },
   "outputs": [],
   "source": [
    "# Impute distance, time and speed data\n",
    "\n",
    "# calculate median speed for valid trips\n",
    "median_speed = df['trip_speed'].loc[(df['trip_distance']>0) & (df['trip_duration_hour']>0)].median()\n",
    "\n",
    "# index type of data error\n",
    "dist_0 = (df['trip_distance']==0) & (df['trip_duration_hour']>0)\n",
    "time_0 = (df['trip_distance']>0) & (df['trip_duration_hour']==0)\n",
    "ratecode_2 = (df['trip_distance']==0) & (df['trip_duration_hour']==0) & (df['rate_code']==2)\n",
    "other_err = (df['trip_distance']==0) & (df['trip_duration_hour']==0) & (df['rate_code']!=2)\n",
    "\n",
    "# For trips with distance = 0 and time >0, replaced by median speed * trip time                                  \n",
    "df['trip_distance'].loc[dist_0] = df['trip_duration_hour'].loc[dist_0]*median_speed\n",
    "\n",
    "# For trips with distance > 0 and time = 0, replaced by trip distance /median speed \n",
    "df['trip_duration_hour'].loc[time_0] = df['trip_distance'].loc[time_0]/median_speed\n",
    "\n",
    "# For trips with distance ==0 and time = 0 and rate code ==2, replaced by median distance and time for rate code ==2\n",
    "df['trip_duration_hour'].loc[ratecode_2] = df['trip_duration_hour'].loc[(df['trip_distance']>0) & (df['trip_duration_hour']>0) \\\n",
    "                                                      & (df['rate_code']==2)].median()\n",
    "df['trip_distance'].loc[ratecode_2] = df['trip_distance'].loc[(df['trip_distance']>0) & (df['trip_duration_hour']>0) \\\n",
    "                                                      & (df['rate_code']==2)].median()\n",
    "\n",
    "# For trips with distance ==0 and time = 0 and rate code !=2, replaced using median distance or time/dollar*fare\n",
    "time_p_usd = df['trip_duration_hour']/df['fare_amount']\n",
    "distance_p_usd = df['trip_distance']/df['fare_amount']\n",
    "\n",
    "df['trip_duration_hour'].loc[other_err] = df['fare_amount'].loc[other_err] * time_p_usd.median()\n",
    "df['trip_distance'].loc[other_err] = df['fare_amount'].loc[other_err] * distance_p_usd.median()\n",
    "\n",
    "# recalculate speed after impution\n",
    "df['trip_speed'] = df['trip_distance']/df['trip_duration_hour']"
   ]
  },
  {
   "cell_type": "markdown",
   "metadata": {},
   "source": [
    "df.to_pickle('nyc_taxi_prepped.pickle')"
   ]
  },
  {
   "cell_type": "markdown",
   "metadata": {},
   "source": [
    "df = pd.read_pickle('nyc_taxi_prepped.pickle')"
   ]
  },
  {
   "cell_type": "code",
   "execution_count": null,
   "metadata": {},
   "outputs": [],
   "source": [
    "# plot distance with and without data cleaning\n",
    "fig, axs = plt.subplots(1,2)\n",
    "fig.set_size_inches(9, 3)\n",
    "fig.subplots_adjust(wspace=.5)\n",
    "\n",
    "# We can set the number of bins with the `bins` kwarg\n",
    "#axs[0].hist(df_orig['trip_distance'],bins=100);\n",
    "#axs[0].set_title('Histogram of distance, Raw Data')\n",
    "#axs[0].set_xlabel('Distance (mile)')\n",
    "#axs[0].set_ylabel('Number of records')\n",
    "\n",
    "axs[1].hist(df['pickup_hour'],bins=100);\n",
    "axs[1].set_title('Histogram of Pickup Hour, Cleaned data')\n",
    "axs[1].set_xlabel('Pick Up Hour')\n",
    "axs[1].set_ylabel('Number of records');\n",
    "\n",
    "#fig.savefig('fig2.svg', format='svg',dpi=400, bbox_inches='tight')\n",
    "\n",
    "#print('The average distance is',round(df['trip_distance'].mean(),1),', the standard deviation is',round(df['trip_distance'].std(),1))\n",
    "#print('The median distance is',round(df['trip_distance'].median(),1),', the 95% of trips distance fell between',\n",
    "#round(df['trip_distance'].quantile(.025),2),'to',round(df['trip_distance'].quantile(.975), 1))"
   ]
  },
  {
   "cell_type": "code",
   "execution_count": null,
   "metadata": {},
   "outputs": [],
   "source": [
    "# plot distance with and without data cleaning\n",
    "fig, axs = plt.subplots(1,2)\n",
    "fig.set_size_inches(9, 3)\n",
    "fig.subplots_adjust(wspace=.5)\n",
    "\n",
    "# We can set the number of bins with the `bins` kwarg\n",
    "axs[0].hist(df_orig['trip_distance'],bins=100);\n",
    "axs[0].set_title('Histogram of distance, Raw Data')\n",
    "axs[0].set_xlabel('Distance (mile)')\n",
    "axs[0].set_ylabel('Number of records')\n",
    "\n",
    "axs[1].hist(df['trip_distance'],bins=100);\n",
    "axs[1].set_title('Histogram of distance, Cleaned data')\n",
    "axs[1].set_xlabel('Distance (mile)')\n",
    "axs[1].set_ylabel('Number of records');\n",
    "\n",
    "#fig.savefig('fig2.svg', format='svg',dpi=400, bbox_inches='tight')\n",
    "\n",
    "print('The average distance is',round(df['trip_distance'].mean(),1),', the standard deviation is',round(df['trip_distance'].std(),1))\n",
    "print('The median distance is',round(df['trip_distance'].median(),1),', the 95% of trips distance fell between',\n",
    "round(df['trip_distance'].quantile(.025),2),'to',round(df['trip_distance'].quantile(.975), 1))"
   ]
  },
  {
   "cell_type": "code",
   "execution_count": null,
   "metadata": {},
   "outputs": [],
   "source": [
    "# create a log transformed distance\n",
    "df['trip_logdist'] = df['trip_distance'].apply(lambda x: np.log(x))\n",
    "\n",
    "# plot log-transformed distance distribution and QQ plot of log-transformed distance\n",
    "fig, axs = plt.subplots(1,2)\n",
    "fig.set_size_inches(9, 3)\n",
    "fig.subplots_adjust(wspace=.5)\n",
    "\n",
    "# We can set the number of bins with the `bins` kwarg\n",
    "axs[0].hist(df['trip_logdist'], bins=50);\n",
    "axs[0].set_title('A. Histogram of log-transformed distance')\n",
    "axs[0].set_ylabel('Number of records');\n",
    "\n",
    "stats.probplot(df['trip_logdist'].sample(3000), dist=\"norm\", plot=axs[1])# sample data points to reduce figure size\n",
    "axs[1].set_title('B. Q-Q plot of log-transformed distance');\n",
    "#fig.savefig('fig3.svg', format='svg',bbox_inches='tight')"
   ]
  },
  {
   "cell_type": "code",
   "execution_count": null,
   "metadata": {},
   "outputs": [],
   "source": [
    "# Calculate mean and median trip distance by grouping pick up hours of day\n",
    "df_hourly_distance=df[['trip_distance','pickup_hour']].groupby(by='pickup_hour').mean()\n",
    "df_hourly_distance.columns=['mean_trip_distance']\n",
    "df_hourly_distance['median_trip_distance']=df[['trip_distance','pickup_hour']].groupby(by='pickup_hour').median()\n",
    "#df_hourly_distance.reset_index().to_csv('test.csv')"
   ]
  },
  {
   "cell_type": "code",
   "execution_count": null,
   "metadata": {},
   "outputs": [],
   "source": [
    "sns.lineplot(data=df_hourly_distance)"
   ]
  },
  {
   "cell_type": "markdown",
   "metadata": {},
   "source": [
    "Mean distances were constantly higher than median distance during each hour. \n",
    "This is most likely because the distribution of trip distance is right-skewed, and the mean could be inflated by a few long-distance trips. As such, the median is a fairer representation of the central tendency of all distances."
   ]
  }
 ],
 "metadata": {
  "kernelspec": {
   "display_name": "Python 3",
   "language": "python",
   "name": "python3"
  },
  "language_info": {
   "codemirror_mode": {
    "name": "ipython",
    "version": 3
   },
   "file_extension": ".py",
   "mimetype": "text/x-python",
   "name": "python",
   "nbconvert_exporter": "python",
   "pygments_lexer": "ipython3",
   "version": "3.7.6"
  }
 },
 "nbformat": 4,
 "nbformat_minor": 4
}
